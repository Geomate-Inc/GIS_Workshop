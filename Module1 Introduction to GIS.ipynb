{
 "cells": [
  {
   "cell_type": "markdown",
   "metadata": {},
   "source": [
    "# Installation and Data Setup"
   ]
  },
  {
   "cell_type": "markdown",
   "metadata": {},
   "source": [
    "## QGIS Installation\n",
    "The first step for this workshop will be ensuring that you have the proper version of QGIS installed in order to follow along with the activities. For the purposes of the workshop we will be making use of QGIS 3.10.0 \n",
    "\n",
    "You can download the software from this site: https://www.qgis.org/en/site/forusers/download.html\n",
    "\n",
    "** Ensure that you download the standalone installer for QGIS, not the OSGeo4W package\n",
    "\n",
    "Once you have downloaded and installed QGIS, take a few minutes to explore the user-interface and familarize yourself with the different buttons and drop down menus."
   ]
  },
  {
   "cell_type": "markdown",
   "metadata": {},
   "source": [
    "####  "
   ]
  },
  {
   "cell_type": "markdown",
   "metadata": {},
   "source": [
    "## QGIS Plugins\n",
    "\n",
    "QGIS is a free and open-source GIS software that allows contributions from the community! These contributions come in the form of plugins that can be freely downloaded and added to your own version of QGIS to perform analysis outside of what is possible with the base download. \n",
    "\n",
    "We will be using the following QGIS plugins for the workshop:\n",
    "\n",
    "\n",
    "Plugins can be easily installed within the QGIS user-interface. To install the plug-ins go to the Plugins dropdown menu and select the first option 'Manage and Install Plugins'. This will bring up a window where you can use the search bar in order to search for the plugins in the list above."
   ]
  },
  {
   "cell_type": "markdown",
   "metadata": {},
   "source": [
    "####      "
   ]
  },
  {
   "cell_type": "markdown",
   "metadata": {},
   "source": [
    "## Downloading Data\n",
    "\n",
    "For the purposes of the workshop we will be using data available on the Region of Waterloo Open Data Source Website (https://rowopendata-rmw.opendata.arcgis.com/). This website allows access to both spatial and non-spatial data from the City of Waterloo, Kitchener, Cambridge, and other towns within the region. We have selected a few datasets to use for the different modules that make up this workshop. These data are sorted into the different module fodlers that you downloaded from the git-hub website. You will work through each folder one at a time, however, the results of the different modules will build on each other."
   ]
  },
  {
   "cell_type": "markdown",
   "metadata": {},
   "source": [
    "####      "
   ]
  },
  {
   "cell_type": "code",
   "execution_count": null,
   "metadata": {},
   "outputs": [],
   "source": []
  }
 ],
 "metadata": {
  "kernelspec": {
   "display_name": "Python 3",
   "language": "python",
   "name": "python3"
  },
  "language_info": {
   "codemirror_mode": {
    "name": "ipython",
    "version": 3
   },
   "file_extension": ".py",
   "mimetype": "text/x-python",
   "name": "python",
   "nbconvert_exporter": "python",
   "pygments_lexer": "ipython3",
   "version": "3.7.1"
  }
 },
 "nbformat": 4,
 "nbformat_minor": 2
}
