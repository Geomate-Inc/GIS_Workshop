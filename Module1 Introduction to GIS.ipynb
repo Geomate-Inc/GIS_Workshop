{
 "cells": [
  {
   "cell_type": "markdown",
   "metadata": {},
   "source": [
    "# Installation and Data Setup"
   ]
  },
  {
   "cell_type": "markdown",
   "metadata": {},
   "source": [
    "## QGIS Installation\n",
    "The first step for this workshop will be ensuring that you have the proper version of QGIS installed in order to follow along with the activities. For the purposes of the workshop we will be making use of QGIS 3.4\n",
    "\n",
    "You can download the software from this site: https://www.qgis.org/en/site/forusers/download.html\n",
    "\n",
    "** Ensure that you download the standalone installer for QGIS, not the OSGeo4W package"
   ]
  },
  {
   "cell_type": "markdown",
   "metadata": {},
   "source": [
    "<img src=\"Example_Images/QGIS_Download.PNG\">"
   ]
  },
  {
   "cell_type": "markdown",
   "metadata": {},
   "source": [
    "## QGIS Plugins\n",
    "\n",
    "QGIS is a free and open-source GIS software that allows contributions from the community! These contributions come in the form of plugins that can be freely downloaded and added to your own version of QGIS to perform analysis outside of what is possible with the base download. \n",
    "\n",
    "We will be using the following QGIS plugins for the workshop:\n",
    "    1. Visualist\n",
    "    2. qgis2web\n",
    "\n",
    "\n",
    "Plugins can be easily installed within the QGIS user-interface. To install the plug-ins go to the Plugins dropdown menu and select the first option 'Manage and Install Plugins'. This will bring up a window where you can use the search bar in order to search for the plugins in the list above (see the image below for the first example)."
   ]
  },
  {
   "cell_type": "markdown",
   "metadata": {},
   "source": [
    "<img src=\"Example_Images/Plugin_Example.PNG\">"
   ]
  },
  {
   "cell_type": "markdown",
   "metadata": {},
   "source": [
    "## Downloading Data\n",
    "\n",
    "For the purposes of the workshop we will be using data available on the Region of Waterloo Open Data Source Website (https://rowopendata-rmw.opendata.arcgis.com/). This website allows access to both spatial and non-spatial data from the City of Waterloo, Kitchener, Cambridge, and other towns within the region. We have selected a few datasets to use for the different modules that make up this workshop. These data are stored in the ModuleData folder on github. This folder contains subfolders for each module exercise with access to the data and a short description of each dataset as well as where it was originally downloaded. Make sure you download this data and store it in a folder you will be able to easily find on your computer. We will refer to this directory as the 'working directory' throughout the modules."
   ]
  },
  {
   "cell_type": "markdown",
   "metadata": {},
   "source": [
    "## Installing Miniconda\n",
    "\n",
    "For the final module of the workshop we will be exploring the use of advanced GIS analysis through python coding. This will require the use of python and Anaconda. In order to speed up the installation of these software we will be using the minimalist Anaconda package - Miniconda. This can be downloaded from: https://docs.conda.io/en/latest/miniconda.html (see image below). Ensure that you install the Python 3.7 version. Further information regarding python/Miniconda/GIS integration will be discussed in the final module and we will introduce some basic skills such as python package installation and syntax."
   ]
  },
  {
   "cell_type": "markdown",
   "metadata": {},
   "source": [
    "<img src=\"Example_Images/Miniconda_Install.PNG\">"
   ]
  },
  {
   "cell_type": "markdown",
   "metadata": {},
   "source": [
    "Once you have installed miniconda you should see a new application in your start menu, Anaconda Prompt. Opening this application will activate the Anaconda terminal. We will cover the anaconda terminal, python, and python packages in Module 5."
   ]
  },
  {
   "cell_type": "code",
   "execution_count": null,
   "metadata": {},
   "outputs": [],
   "source": []
  }
 ],
 "metadata": {
  "kernelspec": {
   "display_name": "Python 3",
   "language": "python",
   "name": "python3"
  },
  "language_info": {
   "codemirror_mode": {
    "name": "ipython",
    "version": 3
   },
   "file_extension": ".py",
   "mimetype": "text/x-python",
   "name": "python",
   "nbconvert_exporter": "python",
   "pygments_lexer": "ipython3",
   "version": "3.7.1"
  }
 },
 "nbformat": 4,
 "nbformat_minor": 2
}
