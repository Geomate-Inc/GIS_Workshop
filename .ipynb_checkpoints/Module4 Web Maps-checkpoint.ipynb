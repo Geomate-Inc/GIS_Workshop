{
 "cells": [
  {
   "cell_type": "markdown",
   "metadata": {},
   "source": [
    "# Module 4 - Web Maps\n",
    "In this module we will be covering how to make web maps using QGIS, specifically with the plugin _qgis2web_. The web map we output will be made with Leaflet.\n",
    "\n",
    "Starting with the layers and map you made from the previous module, we will be turning that map in QGIS into a Leaflet map.\n",
    "\n",
    "The plugin _qgis2web_ should already be installed to your QGIS -- if it is not, take a minute to get that installed. \n",
    "Once you have that installed, click on the \"Create web map\" button in the toolbar. "
   ]
  },
  {
   "cell_type": "markdown",
   "metadata": {},
   "source": [
    "<img src=\"Example_Images/createwebmap.png\">"
   ]
  },
  {
   "cell_type": "markdown",
   "metadata": {},
   "source": [
    "## Creating a quick and easy web map"
   ]
  },
  {
   "cell_type": "markdown",
   "metadata": {},
   "source": [
    "We're jumping straight in. Let's make a quick and easy web map to get us all started. \n",
    "\n",
    "The very first thing that we are going to do is select *Leaflet* from the web mapping libraries at the bottom of the plugin window. Doing this tells the plugin that we want to create our web map using the Leaflet JavaScript library, instead of the *OpenLayers* or *Mapbox GL* ones. These different web mapping libraries are good at different things when it comes to creating web maps, and should be one of the first things you consider when you begin developing a web map on your own. For our purposes, we are using Leaflet because it is lightweight and the code is easy to understand, if you so choose to explore the scripts behind the web map we are making today. \n",
    "\n",
    "When you open up the plugin, everything in the *Layers and Groups* tab is checked: the layers, visibility, and popups are all checked. We're going to want to start with some simple for our first web map, so uncheck the popup options for each layer. \n",
    "\n",
    "Next, in the *Appearance* tab, scroll down until you see the *Template* option. Set this to *full-screen* (instead of *canvas-size*). Further down, set the *Extent* to *fit to Layers extent* (instead of *canvas extent*). Set the *Max zoom level* to *20*. "
   ]
  },
  {
   "cell_type": "markdown",
   "metadata": {},
   "source": [
    "<img src=\"Example_Images/appearancetab.png\">"
   ]
  },
  {
   "cell_type": "markdown",
   "metadata": {},
   "source": [
    "In the *Export* tab, you can set the folder that the plugin will export to. Every time you export using the plugin, a new folder containing the files for your web map will be created, so do not worry about overwriting your web map. It is recommended that you do not export too many times, and to clean up previous exports, in order to reduce the impact on storage. \n",
    "\n",
    "Now that we've adjusted some settings, let's export our first web map! When you hit the *Export* button, a *Progress* window will open up, and when the web map is successfully created, your web map will open automatically in your browser in a new tab. Please note that this web map is local, and that if you wish to publish your web map, you will need to find your own hosting services. \n",
    "\n",
    "Look! We made a web map! Now that was easy :)"
   ]
  },
  {
   "cell_type": "markdown",
   "metadata": {},
   "source": [
    "## Creating a good web map\n",
    "So we've created a web map, but it isn't very good, is it? We don't know what our web map is presenting, what the geographic context of the map is, and we can only see one of the two layers that we have. \n",
    "\n",
    "To make our web map more useful and appealing to users, there are several things we need to do. Let us begin by adding a basemap and providing some context to the information we are trying to present, as well as layer control. "
   ]
  },
  {
   "cell_type": "markdown",
   "metadata": {},
   "source": [
    "### Basemap and Layer Control\n",
    "Web maps generally have a basemap, which are raster tiles that show background information to give your map some context. An example of this is the basemap of Google Maps, when you're navigating from Point A to Point B, you are also shown surrounding streets, businesses, and water bodies. \n",
    "\n",
    "#### Basemaps\n",
    "For our web map, we have a selection of basemaps we can add to enhance the information we are trying to show. In QGIS, find the *XYZ Tiles* and click and drag the *OpenStreetMap* layer into the *Layers* window. If you find that the basemap is being shown over your traffic collision layers, you can reorder your layers so that the basemap is at the bottom of your *Layers* list. "
   ]
  },
  {
   "cell_type": "markdown",
   "metadata": {},
   "source": [
    "<img src=\"Example_Images/basemaps1.png\">"
   ]
  },
  {
   "cell_type": "markdown",
   "metadata": {},
   "source": [
    "And just like that, we've successfully added a basemap! If you preview your web map with the *qgis2web* plugin now, you will see that the basemap also shows up in the preview! \n",
    "\n",
    "The basemap we added, OpenStreetMap (OSM), is a very popular basemap used in web mapping, but there is actually a large variety of basemaps that we can use. Let's add in a stylish basemap. To get a new basemap into QGIS, we need to access the tile servers for basemaps, and the URLs for a variety of them can be found here: https://wiki.openstreetmap.org/wiki/Tile_servers\n",
    "\n",
    "To get the basemap style you want, you need to create a new XYZ Tiles connection to point to the right tile server URL. Right-click *XYZ Tiles* and click *New Connection*."
   ]
  },
  {
   "cell_type": "markdown",
   "metadata": {},
   "source": [
    "<img src=\"Example_Images/basemaps2.png\">"
   ]
  },
  {
   "cell_type": "markdown",
   "metadata": {},
   "source": [
    "Give the new connection the appropriate name- here I am using StamenToner. For the URL, paste the URL of your chosen basemap from the Tile servers page, and remove the $ symbols. You can adjust the zoom levels if you want, but the defaults are usually appropriate. "
   ]
  },
  {
   "cell_type": "markdown",
   "metadata": {},
   "source": [
    "<img src=\"Example_Images/basemaps3.png\">"
   ]
  },
  {
   "cell_type": "markdown",
   "metadata": {},
   "source": [
    "Click *OK*, and click and drag the new XYZ Tiles connection to your *Layers* list. Again, make sure that your basemaps are below your other layers. You'll find that you can only see one basemap at a time, as they are tiled rasters. "
   ]
  },
  {
   "cell_type": "markdown",
   "metadata": {},
   "source": [
    "#### Adjusting Transparency\n",
    "You'll find that you can't see your basemap underneath your traffic collisions layers, other than toggling the layers on and off. We can remedy this by making the traffic collisions layers semi-transparent. \n",
    "\n",
    "For this task, I have made only Gi layer visible, and will be changing the transparency of only this layer. Open the *Properties* of the traffic collisions layer and go to the *Symbology* tab. At the bottom of the window, check out the *Layer Rendering* options, and you will see you can adjust the *Opacity* of the layer. Set the *Opacity* to 80\\% and hit *OK*. "
   ]
  },
  {
   "cell_type": "markdown",
   "metadata": {},
   "source": [
    "<img src=\"Example_Images/basemaps4.png\">"
   ]
  },
  {
   "cell_type": "markdown",
   "metadata": {},
   "source": [
    "Now we can see the basemap through the layer! When you preview your web map, you will see that all of that changes we've made in QGIS are reflected in the web map. You'll find that, most of the time, in order to make changes to your web map through the *qgis2web* plugin, you need to change your map in QGIS first. "
   ]
  },
  {
   "cell_type": "markdown",
   "metadata": {},
   "source": [
    "#### Layer Control\n",
    "Now perhaps you have been thinking, we've been able to view one layer and one basemap, how can I give the users of my map the option of toggling the layers on and off, and change between different basemaps? This is when Layer Control comes in. In Leaflet, there is a little control that users can use to select which layers they are viewing, and which basemap they are viewing those layers on. We can enable this control in the *qgis2web* plugin. Please note that this layer control functions a little differently when enabled with the plugin than if you had coded it in yourself. \n",
    "\n",
    "Make sure that layers that you want available to the user are checked in plugin window. The layers do not necessarily need to be visible, but it is recommended that you have at least one layer and one basemap visible when the web map loads. \n",
    "\n",
    "In the *Appearance* tab, for the *Add layers list* option, select *Collapsed* to enable the layers list. "
   ]
  },
  {
   "cell_type": "markdown",
   "metadata": {},
   "source": [
    "<img src=\"Example_Images/basemaps5.png\">"
   ]
  },
  {
   "cell_type": "markdown",
   "metadata": {},
   "source": [
    "If you update your preview, you will find a layers icon in the top right corner of the preview, which expands into a layers list with legend items! Export the web map to see if it works as expected. "
   ]
  },
  {
   "cell_type": "markdown",
   "metadata": {},
   "source": [
    "### Colours and Descriptive Text\n",
    "Now that we've added some context to the data on our web map, let's add more detail about the data itself. Our two traffic collision layers were created in the previous module, so hopefully you still remember what they were about! To enhance how we present our polygons, we are going to change the colours we're using, and edit the text of the web map so everything is more coherent. "
   ]
  },
  {
   "cell_type": "markdown",
   "metadata": {},
   "source": [
    "#### Colour Selection\n",
    "Let me introduce you to this wonderful tool called Colorbrewer! \n",
    "http://colorbrewer2.org/\n",
    "\n",
    "Colorbrewer is a popular tool for GIS users as it recommends effective colour schemes for different datasets and for different use cases. Using this tool, we will be able to select a colour scheme that will better fit the nature of our data and the number of classes that we have, and also making it colour-blind safe. \n",
    "\n",
    "For this section, we will be using a new colour scheme for the Moran's I layer, based off of the colour schemes recommended through Colorbrewer. \n",
    "\n",
    "In Colorbrewer, we will first input some settings based off our Moran's I layer. There are 4 classes, for the HH, HL, LH, and LL values in the Moran's I dataset. The nature of this dataset is diverging, ranging from highs to lows, and we want to make sure that the colours are colour-blind safe. We would also like the change the colour transparency to about 20% transparent. Below is an image of what the settings look like, including the colour scheme that I chose in the end."
   ]
  },
  {
   "cell_type": "markdown",
   "metadata": {},
   "source": [
    "<img src=\"Example_Images/colorbrewer.png\">"
   ]
  },
  {
   "cell_type": "markdown",
   "metadata": {},
   "source": [
    "With the selected colour scheme, we will change the colour of each value as seen in the *Symbology* tab of the *Properties* window of the layer. Right click the symbol and select *Change color* to open the *Change Symbol Color* window. "
   ]
  },
  {
   "cell_type": "markdown",
   "metadata": {},
   "source": [
    "<img src=\"Example_Images/symbology1.png\">"
   ]
  },
  {
   "cell_type": "markdown",
   "metadata": {},
   "source": [
    "Copy the hex value (begins with #) of the red colour from Colorbrewer and paste it into the equivalent field in QGIS. Click *OK* and the colour of the value will update. When you have updated all of the symbols, make sure to click *OK* again when exiting the *Properties* window for the changes to apply. "
   ]
  },
  {
   "cell_type": "markdown",
   "metadata": {},
   "source": [
    "<img src=\"Example_Images/symbology2.png\">"
   ]
  },
  {
   "cell_type": "markdown",
   "metadata": {},
   "source": [
    "We've updated the colours of this layer! You can check it out in your web map preview, but let's take a few minutes to do this for the other traffic collisions layer, the Gi analysis, and then we'll move on to making the text of the web map more descriptive. "
   ]
  },
  {
   "cell_type": "markdown",
   "metadata": {},
   "source": [
    "#### Layer/Legend Text\n",
    "A simple way to make your web map more coherent is to have a descriptive but concise legend-- or in our case, the layer control that we created earlier. As we learned from the section on basemaps, in order to make changes to the web map through the *qgis2web* plugin, we need to change how the map displays in QGIS first. The layers listed in the layer control are no different. \n",
    "\n",
    "In the *Layers* list in QGIS, rename basemap layers to say \"Basemap:\" before the name of the basemap. You can do this by right-clicking and selecting *Rename Layer*. When you preview this change in the *qgis2web* plugin, you will find that the names of the basemap layers in the layer control have changed to match the *Layers* list. Now, you can do the same with the other layers, by giving them nicer names, without underscores and with spaces. "
   ]
  },
  {
   "cell_type": "markdown",
   "metadata": {},
   "source": [
    "<img src=\"Example_Images/rename.png\">"
   ]
  },
  {
   "cell_type": "markdown",
   "metadata": {},
   "source": [
    "The layer values are a little trickier to edit, and you might have found that you cannot simply \"rename\" the values. In order to modify how these appear in the web map layers control, you need to go into the *Symbology* tab of the layer *Properties*, and edit the text in the *Legend* column of the classified values, as seen in the image below. Do this for both traffic collision layers. "
   ]
  },
  {
   "cell_type": "markdown",
   "metadata": {},
   "source": [
    "<img src=\"Example_Images/editlegendvalues.png\">"
   ]
  },
  {
   "cell_type": "markdown",
   "metadata": {},
   "source": [
    "Now when you preview your web map, and hover over the layer control, you will see that your text edits have been reflected in your web map! Now with the layer control acting as a legend and playing a critical part of the comprehension of your web map, you may want to change the layer control setting so that it is always expanded. Do this by going to the *Appearance* tab of the plugin, and selecting *Expanded* for the *Add layers list* option. "
   ]
  },
  {
   "cell_type": "markdown",
   "metadata": {},
   "source": [
    "### Popups - and other mouseover/click events\n",
    "After all that work to make the web map coherent at a glance, it's time to make it more interactive and exciting, using popups! Popups are often used to increase how interactive a web map is, as well as provide an avenue to present more detail for the aggregated data of a map. For our web map, we will be adding popups to the Gi analysis layer, to present the exact values of the polygons. \n",
    "\n",
    "You may have already tried to do this, or done this accidentally, when updating your web map preview. The qgis2web plugin tends to re-enable the popup option for each layer every time you open the plugin window. You may have found that the popups that are generated are awkward and difficult to understand; we're going to fix that. \n",
    "\n",
    "To make clear and concise popups for our Gi analysis layer, we are going to hide all of the fields of data that are not as relevant, and to show only the Gi value with a clean header indicating what it is. To hide the other data such as the census division name and the population, go into the Attributes tab of the layer's Properties, and select a field that you wish to hide, like DAUID. Then, under *Widget Type*, change it to *Hidden* (from *Text Edit*). Do this for every field you wish to not show in the popup. "
   ]
  },
  {
   "cell_type": "markdown",
   "metadata": {},
   "source": [
    "<img src=\"Example_Images/hidingfieldsforpopup.png\">"
   ]
  },
  {
   "cell_type": "markdown",
   "metadata": {},
   "source": [
    "When you preview the web map and click on a polygon, the popup that appears will now only have the GETISORD_Z value in it. To clarify what the value is, in the Layer and Groups tab, select *header label* for the GETISORD_Z value. When you update your preview, the popups should now show a header and the GETISORD_Z value. As the header is not a particularly nice or useful name, we're going to go back into the layer Properties and Attributes tab to assign an alias to the GETISORD_Z field, which the popups of the web map will use. "
   ]
  },
  {
   "cell_type": "markdown",
   "metadata": {},
   "source": [
    "<img src=\"Example_Images/givalue.png\">"
   ]
  },
  {
   "cell_type": "markdown",
   "metadata": {},
   "source": [
    "Hurrah! Now you've learned how to add and edit popups to your layers! Try this out with the other traffic collisions layer, or with the new layer we're working with in the next section: clustering!"
   ]
  },
  {
   "cell_type": "markdown",
   "metadata": {},
   "source": [
    "### Clustering"
   ]
  }
 ],
 "metadata": {
  "kernelspec": {
   "display_name": "Python 3",
   "language": "python",
   "name": "python3"
  },
  "language_info": {
   "codemirror_mode": {
    "name": "ipython",
    "version": 3
   },
   "file_extension": ".py",
   "mimetype": "text/x-python",
   "name": "python",
   "nbconvert_exporter": "python",
   "pygments_lexer": "ipython3",
   "version": "3.7.4"
  }
 },
 "nbformat": 4,
 "nbformat_minor": 2
}
