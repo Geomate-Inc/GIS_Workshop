{
 "cells": [
  {
   "cell_type": "markdown",
   "metadata": {},
   "source": [
    "# Module 4 - Web Maps\n",
    "In this module we will be covering how to make web maps using QGIS, specifically with the plugin _qgis2web_. The web map we output will be made with Leaflet.\n",
    "\n",
    "Starting with the layers and map you made from the previous module, we will be turning that map in QGIS into a Leaflet map.\n",
    "\n",
    "The plugin _qgis2web_ should already be installed to your QGIS -- if it is not, take a minute to get that installed. \n",
    "Once you have that installed, click on the \"Create web map\" button in the toolbar. "
   ]
  },
  {
   "cell_type": "markdown",
   "metadata": {},
   "source": [
    "<img src=\"Example_Images/createwebmap.PNG\">"
   ]
  },
  {
   "cell_type": "markdown",
   "metadata": {},
   "source": [
    "## Creating a quick and easy web map"
   ]
  },
  {
   "cell_type": "markdown",
   "metadata": {},
   "source": [
    "We're jumping straight in. Let's make a quick and easy web map to get us all started. \n",
    "\n",
    "The very first thing that we are going to do is select *Leaflet* from the web mapping libraries at the bottom of the plugin window. Doing this tells the plugin that we want to create our web map using the Leaflet JavaScript library, instead of the *OpenLayers* or *Mapbox GL* ones. These different web mapping libraries are good at different things when it comes to creating web maps, and should be one of the first things you consider when you begin developing a web map on your own. For our purposes, we are using Leaflet because it is lightweight and the code is easy to understand, if you so choose to explore the scripts behind the web map we are making today. \n",
    "\n",
    "When you open up the plugin, everything in the *Layers and Groups* tab is checked: the layers, visibility, and popups are all checked. We're going to want to start with some simple for our first web map, so uncheck the popup options for each layer. \n",
    "\n",
    "Next, in the *Appearance* tab, scroll down until you see the *Template* option. Set this to *full-screen* (instead of *canvas-size*). Further down, set the *Extent* to *fit to Layers extent* (instead of *canvas extent*). Set the *Max zoom level* to *20*. "
   ]
  },
  {
   "cell_type": "markdown",
   "metadata": {},
   "source": [
    "<img src=\"Example_Images/appearancetab.PNG\">"
   ]
  },
  {
   "cell_type": "markdown",
   "metadata": {},
   "source": [
    "In the *Export* tab, you can set the folder that the plugin will export to. Every time you export using the plugin, a new folder containing the files for your web map will be created, so do not worry about overwriting your web map. It is recommended that you do not export too many times, and to clean up previous exports, to reduce the impact on storage. \n",
    "\n",
    "Now that we've adjusted some settings, let's export our first web map! When you hit the *Export* button, a *Progress* window will open up, and when the web map is successfully created, your web map will open automatically in your browser in a new tab. Please note that this web map is local, and that if you wish to publish your web map, you will need to find your own hosting services. \n",
    "\n",
    "Look! We made a web map! Now that was easy :)"
   ]
  },
  {
   "cell_type": "markdown",
   "metadata": {},
   "source": [
    "## Creating a good web map\n",
    "So we've created a web map, but it isn't very good, is it? Our web map does not describe what it is that we are presenting, where the data is describing, no detail about that data, and there is no context to our web map! On top of that, we can only see one of the two layers that we have!\n",
    "\n",
    "To make our web map more useful and appealing to users, there are several things we need to do. Let us begin by adding a basemap and providing some context to the information we are trying to present, as well as layer control. "
   ]
  },
  {
   "cell_type": "markdown",
   "metadata": {},
   "source": [
    "### Basemap and Layer Control\n",
    "Web maps generally have a basemap, which are raster tiles that show background information to give your map some context. An example of this is the basemap of Google Maps, when you're navigating from Point A to Point B, you are also shown surrounding streets, services, and water bodies. \n",
    "\n",
    "#### Basemaps\n",
    "For our web map, we have a selection of basemaps we can add to enhance the information we are trying to show. In QGIS, find the *XYZ Tiles* and click and drag the *OpenStreetMap* layer into the *Layers* window. If you find that the basemap is being shown over your traffic collision layers, you can reorder your layers so that the basemap is at the bottom of your *Layers* list. "
   ]
  },
  {
   "cell_type": "markdown",
   "metadata": {},
   "source": [
    "<img src=\"Example_Images/basemaps1.PNG\">"
   ]
  },
  {
   "cell_type": "markdown",
   "metadata": {},
   "source": [
    "We've successfully added a basemap! If you preview your webmap with the *qgis2web* plugin now, you will see that the basemap also shows up! \n",
    "\n",
    "The basemap we added, OpenStreetMap (OSM), is a very popular basemap used in web mapping, but there is actually a large variety of basemaps out there that we can use. Let's add in a stylish basemap. To get a new basemap in QGIS, we need to access the tile servers for basemaps, and a variety of them can be found here: https://wiki.openstreetmap.org/wiki/Tile_servers\n",
    "\n",
    "To get to the basemap style you want, you need to create a new XYZ Tiles connection to point to the right tile URL. Right-click *XYZ Tiles* and click *New Connection*."
   ]
  },
  {
   "cell_type": "markdown",
   "metadata": {},
   "source": [
    "<img src=\"Example_Images/basemaps2.PNG\">"
   ]
  },
  {
   "cell_type": "markdown",
   "metadata": {},
   "source": [
    "Give the new connection the appropriate name- here I am using StamenToner. For the URL, paste the URL of your chosen basemap from the Tile servers page, and remove the $ symbols. You can adjust the zoom levels if you want, but the defaults are usually appropriate. "
   ]
  },
  {
   "cell_type": "markdown",
   "metadata": {},
   "source": [
    "<img src=\"Example_Images/basemaps3.PNG\">"
   ]
  },
  {
   "cell_type": "markdown",
   "metadata": {},
   "source": [
    "Click *OK*, and click and drag the new XYZ Tiles connection in your *Layers* list."
   ]
  },
  {
   "cell_type": "markdown",
   "metadata": {},
   "source": [
    "#### Adjusting Transparency\n",
    "You'll find that you can't see your basemap underneath your traffic collisions layer, other than toggling the layer on and off. We can remedy this by making the traffic collisions layer semi-transparent. \n",
    "\n",
    "Open the *Properties* of the traffic collisions layer and go to the *Symbology* tab. At the bottom of the window, check out the *Layer Rendering* options, and you will see you can adjust the *Opacity* of the layer. Set the *Opacity* to 80\\% and hit *OK*. "
   ]
  },
  {
   "cell_type": "markdown",
   "metadata": {},
   "source": [
    "<img src=\"Example_Images/basemaps4.PNG\">"
   ]
  },
  {
   "cell_type": "markdown",
   "metadata": {},
   "source": [
    "Now we can see the basemap through the traffic collisions layer! When you preview your web map, you will see that all of that changes we've made in QGIS are reflected in the web map. You'll find that, most of the time, in order to make changes to your web map through the *qgis2web* plugin, you need to change your map in QGIS first. "
   ]
  },
  {
   "cell_type": "markdown",
   "metadata": {},
   "source": [
    "#### Layer Control\n",
    "Now perhaps you have been thinking, we've been able to view one layer and one basemap, how can I give the users of my map the option of toggling the layers on and off, and change between different basemaps? This is when Layer Control comes in. In Leaflet, there is a little widget that users can use to control which layers they are viewing, and which basemap they are viewing those layers on. We can enable this widget in the *qgis2web* plugin. Please note that this widget functions a little differently through the plugin than if you had coded it in yourself. \n",
    "\n",
    "Make sure that layers that you want available to user are checked in plugin window. The layers do not necessarily need to be visible, but it is recommended that you have at least one layer and one basemap visible when the web map loads. \n",
    "\n",
    "In the *Appearance* tab, for the *Add layers list* option, select *Collapsed* to enable the layers list. "
   ]
  },
  {
   "cell_type": "markdown",
   "metadata": {},
   "source": [
    "<img src=\"Example_Images/basemaps5.PNG\">"
   ]
  },
  {
   "cell_type": "markdown",
   "metadata": {},
   "source": [
    "If you update your preview, you will find a layers icon in the top right corner of the preview, which expands into a layers list with legend items! Export the web map to see if it works as expected. "
   ]
  },
  {
   "cell_type": "markdown",
   "metadata": {},
   "source": [
    "### colour and making the legend nicer\n"
   ]
  },
  {
   "cell_type": "markdown",
   "metadata": {},
   "source": [
    "### Clustering"
   ]
  },
  {
   "cell_type": "markdown",
   "metadata": {},
   "source": [
    "### Popups - and other mouseover/click events"
   ]
  }
 ],
 "metadata": {
  "kernelspec": {
   "display_name": "Python 3",
   "language": "python",
   "name": "python3"
  },
  "language_info": {
   "codemirror_mode": {
    "name": "ipython",
    "version": 3
   },
   "file_extension": ".py",
   "mimetype": "text/x-python",
   "name": "python",
   "nbconvert_exporter": "python",
   "pygments_lexer": "ipython3",
   "version": "3.7.4"
  }
 },
 "nbformat": 4,
 "nbformat_minor": 2
}
