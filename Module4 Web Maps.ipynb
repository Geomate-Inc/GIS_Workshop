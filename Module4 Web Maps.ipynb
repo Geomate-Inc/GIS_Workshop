{
 "cells": [
  {
   "cell_type": "markdown",
   "metadata": {},
   "source": [
    "# Module 4 - Web Maps\n",
    "In this module we will be covering how to make web maps using QGIS, specifically with the plugin _qgis2web_. The web map we output will be made with Leaflet."
   ]
  },
  {
   "cell_type": "markdown",
   "metadata": {},
   "source": [
    "Starting with the layers and map you made from the previous module, we will be turning that map in QGIS into a Leaflet map."
   ]
  },
  {
   "cell_type": "markdown",
   "metadata": {},
   "source": [
    "The plugin _qgis2web_ should already be installed to your QGIS -- if it is not, take a minute to get that installed. \n",
    "Once you have that installed, click on the \"Create web map\" button in the toolbar. \n",
    "(insert image here)"
   ]
  },
  {
   "cell_type": "markdown",
   "metadata": {},
   "source": [
    "## Creating a quick and easy web map"
   ]
  },
  {
   "cell_type": "markdown",
   "metadata": {},
   "source": [
    "We're jumping straight in. Let's make a quick and easy web map to get us all started. \n",
    "\n",
    "web mapping library\n",
    "\n",
    "click these buttons in this order and preview\n",
    "if it is to your liking, export the web map\n",
    "open up the web map in your browser and see how it works\n",
    "look! we made a web map! now that was easy"
   ]
  },
  {
   "cell_type": "markdown",
   "metadata": {},
   "source": [
    "## Creating a good web map"
   ]
  },
  {
   "cell_type": "markdown",
   "metadata": {},
   "source": [
    "### Colour, lack of legend"
   ]
  },
  {
   "cell_type": "markdown",
   "metadata": {},
   "source": [
    "### Filtering Data, level of detail"
   ]
  },
  {
   "cell_type": "markdown",
   "metadata": {},
   "source": [
    "### Popups - and other mouseover/click events"
   ]
  },
  {
   "cell_type": "markdown",
   "metadata": {},
   "source": [
    "### basemaps and layer control"
   ]
  },
  {
   "cell_type": "markdown",
   "metadata": {},
   "source": [
    "### other features and dashboarding"
   ]
  },
  {
   "cell_type": "markdown",
   "metadata": {},
   "source": [
    "### Basemap and Layer Control\n",
    "Web maps generally have a basemap, which are raster tiles that show background information to give your map some context. An example of this is the basemap of Google Maps, when you're navigating from Point A to Point B, you are also shown surrounding streets, services, and water bodies. \n",
    "\n",
    "#### Basemaps\n",
    "For our web map, we have a selection of basemaps we can add to enhance the information we are trying to show. In QGIS, find the *XYZ Tiles* and click and drag the *OpenStreetMap* layer into the *Layers* window. If you find that the basemap is being shown over your traffic collision layers, you can reorder your layers so that the basemap is at the bottom of your *Layers* list. "
   ]
  },
  {
   "cell_type": "markdown",
   "metadata": {},
   "source": [
    "<img src=\"Example_Images/basemaps1.PNG\">"
   ]
  },
  {
   "cell_type": "markdown",
   "metadata": {},
   "source": [
    "We've successfully added a basemap! If you preview your webmap with the *qgis2web* plugin now, you will see that the basemap also shows up! \n",
    "\n",
    "The basemap we added, OpenStreetMap (OSM), is a very popular basemap used in web mapping, but there is actually a large variety of basemaps out there that we can use. Let's add in a stylish basemap. To get a new basemap in QGIS, we need to access the tile servers for basemaps, and a variety of them can be found here: https://wiki.openstreetmap.org/wiki/Tile_servers\n",
    "\n",
    "To get to the basemap style you want, you need to create a new XYZ Tiles connection to point to the right tile URL. Right-click *XYZ Tiles* and click *New Connection*."
   ]
  },
  {
   "cell_type": "markdown",
   "metadata": {},
   "source": [
    "<img src=\"Example_Images/basemaps2.PNG\">"
   ]
  },
  {
   "cell_type": "markdown",
   "metadata": {},
   "source": [
    "Give the new connection the appropriate name- here I am using StamenToner. For the URL, paste the URL of your chosen basemap from the Tile servers page, and remove the $ symbols. You can adjust the zoom levels if you want, but the defaults are usually appropriate. "
   ]
  },
  {
   "cell_type": "markdown",
   "metadata": {},
   "source": [
    "<img src=\"Example_Images/basemaps3.PNG\">"
   ]
  },
  {
   "cell_type": "markdown",
   "metadata": {},
   "source": [
    "Click *OK*, and click and drag the new XYZ Tiles connection in your *Layers* list."
   ]
  },
  {
   "cell_type": "markdown",
   "metadata": {},
   "source": [
    "#### Adjusting Transparency\n",
    "You'll find that you can't see your basemap underneath your traffic collisions layer, other than toggling the layer on and off. We can remedy this by making the traffic collisions layer semi-transparent. \n",
    "\n",
    "Open the *Properties* of the traffic collisions layer and go to the *Symbology* tab. At the bottom of the window, check out the *Layer Rendering* options, and you will see you can adjust the *Opacity* of the layer. Set the *Opacity* to 80\\% and hit *OK*. "
   ]
  },
  {
   "cell_type": "markdown",
   "metadata": {},
   "source": [
    "<img src=\"Example_Images/basemaps4.PNG\">"
   ]
  },
  {
   "cell_type": "markdown",
   "metadata": {},
   "source": [
    "Now we can see the basemap through the traffic collisions layer! When you preview your web map, you will see that all of that changes we've made in QGIS are reflected in the web map. You'll find that, most of the time, in order to make changes to your web map through the *qgis2web* plugin, you need to change your map in QGIS first. "
   ]
  },
  {
   "cell_type": "markdown",
   "metadata": {},
   "source": [
    "#### Layer Control\n",
    "Now perhaps you have been thinking, we've been able to view one layer and one basemap, how can I give the users of my map the option of toggling the layers on and off, and change between different basemaps? This is when Layer Control comes in. In Leaflet, there is a little widget that users can use to control which layers they are viewing, and which basemap they are viewing those layers on. We can enable this widget in the *qgis2web* plugin. Please note that this widget functions a little differently through the plugin than if you had coded it in yourself. \n",
    "\n",
    "Make sure that layers that you want available to user are checked in plugin window. The layers do not necessarily need to be visible, but it is recommended that you have at least one layer and one basemap visible when the web map loads. \n",
    "\n",
    "In the *Appearance* tab, for the *Add layers list* option, select *Collapsed* to enable the layers list. "
   ]
  },
  {
   "cell_type": "markdown",
   "metadata": {},
   "source": [
    "<img src=\"Example_Images/basemaps5.PNG\">"
   ]
  },
  {
   "cell_type": "markdown",
   "metadata": {},
   "source": [
    "If you update your preview, you will find a layers icon in the top right corner of the preview, which expands into a layers list with legend items! Export the web map to see if it works as expected. "
   ]
  },
  {
   "cell_type": "markdown",
   "metadata": {},
   "source": []
  }
 ],
 "metadata": {
  "kernelspec": {
   "display_name": "Python 3",
   "language": "python",
   "name": "python3"
  },
  "language_info": {
   "codemirror_mode": {
    "name": "ipython",
    "version": 3
   },
   "file_extension": ".py",
   "mimetype": "text/x-python",
   "name": "python",
   "nbconvert_exporter": "python",
   "pygments_lexer": "ipython3",
   "version": "3.7.4"
  }
 },
 "nbformat": 4,
 "nbformat_minor": 2
}
