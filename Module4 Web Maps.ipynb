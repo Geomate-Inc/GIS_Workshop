{
 "cells": [
  {
   "cell_type": "markdown",
   "metadata": {},
   "source": [
    "# Module 4 - Web Maps\n",
    "In this module we will be covering how to make web maps using QGIS, specifically with the plugin _qgis2web_. The web map we output will be made with Leaflet."
   ]
  },
  {
   "cell_type": "markdown",
   "metadata": {},
   "source": [
    "Starting with the layers and map you made from the previous module, we will be turning that map in QGIS into a Leaflet map."
   ]
  },
  {
   "cell_type": "markdown",
   "metadata": {},
   "source": [
    "The plugin _qgis2web_ should already be installed to your QGIS -- if it is not, take a minute to get that installed. \n",
    "Once you have that installed, click on the \"Create web map\" button in the toolbar. \n",
    "(insert image here)"
   ]
  },
  {
   "cell_type": "markdown",
   "metadata": {},
   "source": [
    "## Creating a quick and easy web map"
   ]
  },
  {
   "cell_type": "markdown",
   "metadata": {},
   "source": [
    "let's make a quick and easy web map to get us all started\n",
    "click these buttons in this order and preview\n",
    "if it is to your liking, export the web map\n",
    "open up the web map in your browser and see how it works\n",
    "look! we made a web map! now that was easy"
   ]
  },
  {
   "cell_type": "markdown",
   "metadata": {},
   "source": [
    "## Creating a good web map\n",
    "### Colour, lack of legend\n",
    "### Filtering Data, level of detail\n",
    "### Popups - and other mouseover/click events\n",
    "### basemaps and layer control\n",
    "### other features and dashboarding"
   ]
  },
  {
   "cell_type": "markdown",
   "metadata": {},
   "source": []
  }
 ],
 "metadata": {
  "kernelspec": {
   "display_name": "Python 3",
   "language": "python",
   "name": "python3"
  },
  "language_info": {
   "codemirror_mode": {
    "name": "ipython",
    "version": 3
   },
   "file_extension": ".py",
   "mimetype": "text/x-python",
   "name": "python",
   "nbconvert_exporter": "python",
   "pygments_lexer": "ipython3",
   "version": "3.7.4"
  }
 },
 "nbformat": 4,
 "nbformat_minor": 2
}
