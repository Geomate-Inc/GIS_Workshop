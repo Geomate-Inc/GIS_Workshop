{
 "cells": [
  {
   "cell_type": "markdown",
   "metadata": {},
   "source": [
    "# Module 3 Geospatial Analysis"
   ]
  },
  {
   "cell_type": "markdown",
   "metadata": {},
   "source": [
    "### Learning Objectives\n",
    "\n",
    "Now that you are familar with the basics of QGIS and spatial data manipulation we will be looking at some basic geospatial analysis tools and techniques using the QGIS interface. This module will focus on the use of tools such as the buffer and clip tools as well as how to select data using created polygons. We will also look at spatial autocorrelation techniques such as LISA (Local Moran's I) and Hotspot Analysis (Getis-Ord Gi). The learning objectives of this module are:\n",
    "\n",
    "1. Experiment with the basic geospatial analysis tools\n",
    "2. Use created buffers to select and analyze data\n",
    "3. Understand the concept of a spatial join and how it can be used to manipulate data\n",
    "4. Design Choropleth maps to visualize geospatial patterns\n",
    "5. Experiment with spatial autocorelation techniques in order to further explore patterns in geospatial data"
   ]
  },
  {
   "cell_type": "markdown",
   "metadata": {},
   "source": [
    "### Clipping Data\n",
    "\n",
    "The first tool will experiment with is the clip tool. This tool is very important when you are working with multiple datasets that may be outside of your select study area. In this case we have a the census dessemination areas for the Waterloo Region but want to work specifically on those within the City of Kitchener Boundary. The first step is to go to the Vector dropdown menu -> Geoprocessing Tools, here you will see a list of basic geoprocessing tools that can be used to manipulate vector datasets. Select Clip to bring up the window. Set the input layer to DA_WaterlooRegion_Population and the overlay layer to Kitchener. Use the ellipsis and select 'Save to File', ensure that you set the file type to ESRI shapefile and that the 'Open Output file' box is checked."
   ]
  },
  {
   "cell_type": "markdown",
   "metadata": {},
   "source": [
    "<img src=\"Example_Images/Clip_Example.PNG\">"
   ]
  },
  {
   "cell_type": "markdown",
   "metadata": {},
   "source": [
    "Once the tool is run you should have a new layer that contains only the dissemination areas with the boundary of Kitchener. You can remove the temporary layer that was created and add in the new file you created. Experiment with graduated symbology and display the data based on population. Where is the largest concentration of population in the Kitchener region?\n",
    "\n",
    "Next perform the same analysis using the Kitchener boundary to clip the Waterloo Region Road Network."
   ]
  },
  {
   "cell_type": "markdown",
   "metadata": {},
   "source": [
    "### Spatial Join\n",
    "\n",
    "Now that we have cut reduced our data to the area of interest, we are first interested in the number of occurrences in each of the different dissimentation areas within Kitchener. In order to determine this total we will use a spatial join. To access the spatial join setting go to the dropdown Processing and select the Toolbox option. This will open the Processing Toolbox on the right hand side of your screen. From there expand the Vector General menu and select the 'Join attributes by location (summary)' tool. Your input feature will be the clipped Kitchener DA shapefile and the Join Layer will be the Traffic Collisions dataset. Under geometric predicate select intersect and contain, and select COLLISION_ as the field to summarize with the summary to calculate being set to count. Make sure that you save the output file to a known location. The tool window should match the image below."
   ]
  },
  {
   "cell_type": "markdown",
   "metadata": {},
   "source": [
    "<img src=\"Example_Images/Spatial_Join.PNG\">"
   ]
  },
  {
   "cell_type": "markdown",
   "metadata": {},
   "source": [
    "### Normalize Data\n",
    "\n",
    "Now that we have the number of accidents and the total population for each dissemination area we can normalize the data to give us a better understanding of the rate of traffic collisions per 1000 people. Use the skills from Module 2 in order to add a new field and use the equation (COLLISION_/Population) x 1000 - this will give you the rate per 1000 people!\n",
    "\n",
    "Now that you have calculated the rate, copy the DA area and paste it into the your layer display so you have two versions. Design two choropleth maps, one that shows the raw collision totals and the other that shows the rate per 1000 people. What differences do you notice between the two?"
   ]
  },
  {
   "cell_type": "markdown",
   "metadata": {},
   "source": [
    "### Spatial Autocorrelation\n",
    "\n",
    "Looking at the rates of traffic collisions there are some clear patterns in the dataset (i.e. clusters). We will now explore these clusters further using the Visualist plugin. In your processing toolbox expand the Visualist dropdown menu, you will see two options - Cartography and Spatial Statistics. Expand Cartography and you will see an option for Spatial Autocorrelation Map, open this tool. Select the input data as your output from the spatial join and use the rate values as your input value. Leave the remainder of the settings as default and save the output to a known location. The tool settings should resemble the image below."
   ]
  },
  {
   "cell_type": "markdown",
   "metadata": {},
   "source": [
    "<img src=\"Example_Images/Spatial_Autocorrelation.PNG\">"
   ]
  },
  {
   "cell_type": "markdown",
   "metadata": {},
   "source": [
    "Use the categorize option in symbology in order to display Morans C, this gives us an idea of where the different patterns are occurring and can be matched with other data from the output to locate the areas of signficant autocorrelation (Morans P). To load the values into the Categorize menu, click Classify at the bottom of the page when the column is set as MORANS_C.\n",
    "\n",
    "Repeat the analysis using the Getis-Ord Gi option instead of Moran's I. This will perform a hotspot analysis. Compare these results with the Moran's I and investigate connections with the location of traffic calming data. What do you notice about the clusters of more traffic collisions relative to the number of traffic calming measures?"
   ]
  },
  {
   "cell_type": "markdown",
   "metadata": {},
   "source": [
    "### Date Analysis\n",
    "\n"
   ]
  },
  {
   "cell_type": "code",
   "execution_count": null,
   "metadata": {},
   "outputs": [],
   "source": []
  }
 ],
 "metadata": {
  "kernelspec": {
   "display_name": "Python 3",
   "language": "python",
   "name": "python3"
  },
  "language_info": {
   "codemirror_mode": {
    "name": "ipython",
    "version": 3
   },
   "file_extension": ".py",
   "mimetype": "text/x-python",
   "name": "python",
   "nbconvert_exporter": "python",
   "pygments_lexer": "ipython3",
   "version": "3.7.1"
  }
 },
 "nbformat": 4,
 "nbformat_minor": 2
}
