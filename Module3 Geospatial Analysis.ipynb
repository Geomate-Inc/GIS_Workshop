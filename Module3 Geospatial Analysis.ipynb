{
 "cells": [
  {
   "cell_type": "markdown",
   "metadata": {},
   "source": [
    "# Module 3 Geospatial Analysis"
   ]
  },
  {
   "cell_type": "markdown",
   "metadata": {},
   "source": [
    "### Learning Objectives\n",
    "\n",
    "Now that you are familar with the basics of QGIS and spatial data manipulation we will be looking at some basic geospatial analysis tools and techniques using the QGIS interface. This module will focus on the use of tools such as the buffer and clip tools as well as how to select data using created polygons. We will also look at spatial autocorrelation techniques such as LISA (Local Moran's I) and Hotspot Analysis (Getis-Ord Gi). The learning objectives of this module are:\n",
    "\n",
    "1. Experiment with the basic geospatial analysis tools\n",
    "2. Use created buffers to select and analyze data\n",
    "3. Understand the concept of a spatial join and how it can be used to manipulate data\n",
    "4. Design Choropleth maps to visualize geospatial patterns\n",
    "5. Experiment with spatial autocorelation techniques in order to further explore patterns in geospatial data"
   ]
  },
  {
   "cell_type": "markdown",
   "metadata": {},
   "source": [
    "### Clipping Data\n",
    "\n",
    "The first tool will experiment with is the clip tool. This tool is very important when you are working with multiple datasets that may be outside of your select study area. In this case we have a the census dessemination areas for the Waterloo Region but want to work specifically on those within the City of Kitchener Boundary. The first step is to go to the Vector dropdown menu -> Geoprocessing Tools, here you will see a list of basic geoprocessing tools that can be used to manipulate vector datasets. Select Clip to bring up the window. Set the input layer to DA_WaterlooRegion_Population and the overlay layer to Kitchener. Use the ellipsis and select 'Save to File', ensure that you set the file type to ESRI shapefile and that the 'Open Output file' box is checked."
   ]
  },
  {
   "cell_type": "markdown",
   "metadata": {},
   "source": [
    "<img src=\"Example_Images/Clip_Example.png\">"
   ]
  },
  {
   "cell_type": "markdown",
   "metadata": {},
   "source": [
    "Once the tool is run you should have a new layer that contains only the dissemination areas with the boundary of Kitchener. You can remove the temporary layer that was created and add in the new file you created. Experiment with graduated symbology and display the data based on population. Where is the largest concentration of population in the Kitchener region?\n",
    "\n",
    "Next perform the same analysis using the Kitchener boundary to clip the Waterloo Region Road Network."
   ]
  },
  {
   "cell_type": "markdown",
   "metadata": {},
   "source": [
    "### Buffer Data\n",
    "\n",
    "Buffer the traffic calming data "
   ]
  },
  {
   "cell_type": "markdown",
   "metadata": {},
   "source": [
    "### Spatial Join\n",
    "\n",
    "join traffic collisions to buffers to determine how many happened in the area (maybe add some filtering)"
   ]
  },
  {
   "cell_type": "markdown",
   "metadata": {},
   "source": [
    "### Normalize Data\n",
    "\n",
    "Using the skills from the spatial join and field calculator - create a new field that uses population and collisions to normalize. What do you notice about the difference between straight display and the normalized data?"
   ]
  },
  {
   "cell_type": "markdown",
   "metadata": {},
   "source": [
    "### Spatial Autocorrelation\n",
    "\n",
    "Now that we have the data, new we want to evaluate the spatial patterns using statistics. Use the autocorrelation tools in visualize to look at clustering and hotspots."
   ]
  },
  {
   "cell_type": "code",
   "execution_count": null,
   "metadata": {},
   "outputs": [],
   "source": []
  }
 ],
 "metadata": {
  "kernelspec": {
   "display_name": "Python 3",
   "language": "python",
   "name": "python3"
  },
  "language_info": {
   "codemirror_mode": {
    "name": "ipython",
    "version": 3
   },
   "file_extension": ".py",
   "mimetype": "text/x-python",
   "name": "python",
   "nbconvert_exporter": "python",
   "pygments_lexer": "ipython3",
   "version": "3.7.1"
  }
 },
 "nbformat": 4,
 "nbformat_minor": 2
}
