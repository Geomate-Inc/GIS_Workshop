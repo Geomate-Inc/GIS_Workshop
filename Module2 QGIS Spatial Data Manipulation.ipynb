{
 "cells": [
  {
   "cell_type": "markdown",
   "metadata": {},
   "source": [
    "# Module 2 - Introduction to QGIS and Spatial Data Manipulation"
   ]
  },
  {
   "cell_type": "markdown",
   "metadata": {},
   "source": [
    "### Learning Objectives\n",
    "\n",
    "This introductory module will get you started with using the basic tools of QGIS. We will investigate components of the user-interface and learn how to load in both pre-made geospatial files as well as non-geospatial data to convert into geospatial data. Finally we will explore the filter capabilities within QGIS that allow for manipulation of the geospatial data. The learning objectives of this module are:\n",
    "\n",
    "1. Identiy key components of the QGIS user-interface (i.e. dropdown menus, toolbox locations, and simple buttons)\n",
    "2. Use QGIS to load geospatial data files and visualize the data\n",
    "3. Experiment with projection systems to understand how it impacts visualization of your data\n",
    "4. Use QGIS to load in non-geospatial data and convert it to spatial data in order to visualize the data\n",
    "5. Generate simple queries in order to select specific entries from a larger data set\n"
   ]
  },
  {
   "cell_type": "markdown",
   "metadata": {},
   "source": [
    "### QGIS Interface\n",
    "\n",
    "The image below shows off the basic QGIS interface that we will be working in for the workshop. The interface is easy to interact with and the names of buttons will appear when you hover the mouse over top. Key menu options have been highlighted in the image below!"
   ]
  },
  {
   "cell_type": "markdown",
   "metadata": {},
   "source": [
    "<img src=\"Example_Images/QGIS_Interface.png\">"
   ]
  },
  {
   "cell_type": "markdown",
   "metadata": {},
   "source": [
    "Starting from the top-left, these three buttons are your project managment options. They include: New Project, Open Project, and Save Project. QGIS is a project-based software, this means that you will work in a consistent environment for the same workflow/map. Projects make it easy to save, close, and resume your work from where you left off as the paths to your geospatial data is saved and there is no need to reload your data. **CAUTION: If you move your geospatial data to a new folder you will need to reset the paths as QGIS will not keep track of moving data**"
   ]
  },
  {
   "cell_type": "markdown",
   "metadata": {},
   "source": [
    "Moving to the buttons to the right of project management, these four buttons are your basic data navigation buttons.These include pan, pan to selection, zoom in, and zoom out. These buttons will be essential for navigating through your data in order to view finer details or viewing the data on a larger scale. "
   ]
  },
  {
   "cell_type": "markdown",
   "metadata": {},
   "source": [
    "The lone button in the middle of the first row is the identify feature button. This button helps you to identify and view the attributes of specific features such as points, lines, and polygons! This button allows you to view the key attributes without opening the entire attribute table."
   ]
  },
  {
   "cell_type": "markdown",
   "metadata": {},
   "source": [
    "The second row of highlighted buttons are the shortcuts for importing data. These buttons allow us to actually load geospatial data into the QGIS environment to visualize it. The most important buttons are the first and third, 'Open Data Source Manager' and 'New Shapefile Layer'."
   ]
  },
  {
   "cell_type": "markdown",
   "metadata": {},
   "source": [
    "### Visualizing Geospatial Data\n",
    "\n",
    "#### Loading Data into QGIS\n",
    "\n",
    "Now that you are familiar with the buttons, let's open our first geospatial data file. Click on the 'Open Data Source Manager' to bring up the window below and ensure you are on the Vector tab located in the left hand sidebar."
   ]
  },
  {
   "cell_type": "markdown",
   "metadata": {},
   "source": [
    "<img src=\"Example_Images/DataSourceManager.JPG\">"
   ]
  },
  {
   "cell_type": "markdown",
   "metadata": {},
   "source": [
    "Once you have opened the data source manager window, use the ellipsis beside the Vector Dataset(s) bar to open up the Canada shapefile as seen above. You should now see a shapefile of the Canadian Provinces and Territories loaded into QGIS. Use the pan, zoom, and identify tool to quickly explore the data. Use the identify tool to look at the attributes for Nunavut, what is the area of the territory? "
   ]
  },
  {
   "cell_type": "markdown",
   "metadata": {},
   "source": [
    "#### Changing Colours and Symbology\n",
    "\n",
    "Now that you have loaded a shapefile into QGIS, its time to experiment with the visualization of the data. First we will look at changing the colour of the dataset. To do this double click on the shapefile in your layer menu (bottom-left side of the screen). This will bring up the layer properties window on the symbology tab (see image below)."
   ]
  },
  {
   "cell_type": "markdown",
   "metadata": {},
   "source": [
    "<img src=\"Example_Images/SymbologyTab.PNG\">"
   ]
  },
  {
   "cell_type": "markdown",
   "metadata": {},
   "source": [
    "Using the colour drop-down menu you can select a large array of colours and styles to represent the data. Try changing the shapefile to a different colour.\n",
    "\n",
    "Now we will change the symbology to graduated colours in order to visualize the differences in area across Canada. First change the 'Single Symbol' dropdown to 'Graduated' then select Area as your value. Next change the mode to 'Equal Interval' to load the data. You can then experiment with settings like the number of classes and the selected colour ramp. Your final screen resemble the image below. Once you have select all your settings you can select 'OK' to apply the changes to your map and view the new area visualization!"
   ]
  },
  {
   "cell_type": "markdown",
   "metadata": {},
   "source": [
    "<img src=\"Example_Images/GraduatedColours.PNG\">"
   ]
  },
  {
   "cell_type": "markdown",
   "metadata": {},
   "source": [
    "### Projections\n",
    "\n",
    "The next aspect we will look at is data projections. You heard a bit about the different projections in the prior lesson, however, we will now look at how projecting the data can impact the geometry of data. Right click on the Canada shapefile in your Layer menu and select 'Export' -> 'Save Features As.', this will bring up the export vector window. Make sure that the format is set to ESRI Shapefile and save it in a location that you will remember. Next click on the projection button (it looks like a globe with a plane overlain on it), filter the projections by searching for WGS 84 / Arctic Polar Stereographic. Once you have selected the projection you can export the data (your final screen should look like the one below)."
   ]
  },
  {
   "cell_type": "markdown",
   "metadata": {},
   "source": [
    "<img src=\"Example_Images/ExportData.PNG\">"
   ]
  },
  {
   "cell_type": "markdown",
   "metadata": {},
   "source": [
    "Click okay and a new dataset should appear in your layer window. Right-click on the layer to open the attribute data and click on the 'Field Calculator' option. Ensure that the 'Create a New Field' option is selected and set the output field type to 'Decimal Number (real)', name your new field 'Area_Polar'. Under row number you should see a drop down menu called 'Geometry' - select the expression called $area. Your settings should look the same as the image below. After calculating the new area compare your Area_Polar to the old field Area, what differences do you notice? You can now remove the Canada layer files from your map."
   ]
  },
  {
   "cell_type": "markdown",
   "metadata": {},
   "source": [
    "<img src=\"Example_Images/FieldCalculator.PNG\">"
   ]
  },
  {
   "cell_type": "markdown",
   "metadata": {},
   "source": [
    "### Kicthener Traffic Collisions Dataset\n",
    "\n",
    "Now that you have explored some basic geospatial manipulations using large-scale datasets, we are going to now focus on a smaller dataset based around Waterloo/Kitchener. Load in the Region Boundary, Kitchener Boundary, and Traffic Collisions dataset to QGIS and take a few minutes to explore the data using some the features we have just practiced."
   ]
  },
  {
   "cell_type": "markdown",
   "metadata": {},
   "source": [
    "Here are some things to try:\n",
    "\n",
    "1. Explore some individual points, what attributes are available with the traffic collisions data?\n",
    "2. Try changing the symbology of the traffic collisions to display the time of day or weather conditions when the accident occurred."
   ]
  },
  {
   "cell_type": "markdown",
   "metadata": {},
   "source": [
    "### Loading a Non-geospatial Files into QGIS\n",
    "\n",
    "We have also provided a csv document titled Traffic Calming, this data contains the date that the traffic calming feature was installed, the type of feature, and the geographic coordinates for the data. Using the 'Data Source Manager', select the csv file and name the layer 'Traffic_Collisions'. Make sure the file format is set to csv and that the proper coordinates are set for x and y. Click Add and you should see the new layer added to your map!"
   ]
  },
  {
   "cell_type": "code",
   "execution_count": null,
   "metadata": {},
   "outputs": [],
   "source": []
  },
  {
   "cell_type": "markdown",
   "metadata": {},
   "source": [
    "Explore the data further and see if you can categorize it based on the type of traffic calming measure that was put in place."
   ]
  },
  {
   "cell_type": "markdown",
   "metadata": {},
   "source": [
    "### Filtering Data\n",
    "\n",
    "Now that you have learned how to load different types of spatial and non-spatial data into QGIS, it is time to learn how to filter data. Using the traffic collisions data, right-click on the layer in your QGIS layer manager and select the filter option. This will open the query builder window. The first query we will construct will filter for only traffic collisions that occurred when it was snowing. Double-click on the ENVIROMEN label in the fields box and you should see it appear in the lower experession box. Next click on the All button under the values window to load in all possible field values for filtering. Add an equal sign and set it equal to '03-Snow' by either double-clicking or adding it in yourself. The window should now look like the image below."
   ]
  },
  {
   "cell_type": "markdown",
   "metadata": {},
   "source": [
    "<img src=\"Example_Images/SnowQuery.PNG\">"
   ]
  },
  {
   "cell_type": "markdown",
   "metadata": {},
   "source": [
    "After hitting OK you should see a dramatic decrease in the number of points displayed in your mapping window. Experiment with the query builder. Try some different queries trying to filter for points when it was daylight (hint: LIGHT field) and raining or for accidents that happened at specific intersection types."
   ]
  },
  {
   "cell_type": "code",
   "execution_count": null,
   "metadata": {},
   "outputs": [],
   "source": []
  }
 ],
 "metadata": {
  "kernelspec": {
   "display_name": "Python 3",
   "language": "python",
   "name": "python3"
  },
  "language_info": {
   "codemirror_mode": {
    "name": "ipython",
    "version": 3
   },
   "file_extension": ".py",
   "mimetype": "text/x-python",
   "name": "python",
   "nbconvert_exporter": "python",
   "pygments_lexer": "ipython3",
   "version": "3.7.1"
  }
 },
 "nbformat": 4,
 "nbformat_minor": 2
}
